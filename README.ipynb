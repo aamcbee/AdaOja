{
 "cells": [
  {
   "cell_type": "markdown",
   "metadata": {},
   "source": [
    "# AdaOja\n",
    "\n",
    "The key code containing our streaming PCA methods is found in <code>[streaming_subclass.py](./streaming_subclass.py)</code>.\n",
    "\n",
    "## Plotting and Comparing AdaOja to other Algorithms\n",
    "\n",
    "### Datasets\n",
    "\n",
    "We run AdaOja against several other streaming algorithms on three different kinds of datasets. \n",
    "\n",
    "#### Synthetic Data\n",
    "The functions to generate synthetic data are found in <code>[simulated_data.py](./simulated_data.py)</code>.\n",
    "\n",
    "#### Bag-of-words\n",
    "These sparse, real-world bag-of-words datasets are available on the [UCI Machine Learning Repository](https://archive.ics.uci.edu/ml/datasets/bag+of+words).\n",
    "The file <code>[data_strm_subclass.py](./data_strm_subclass.py)</code> contains functions for parsing these bag-of-words text files in python. \n",
    "\n",
    "For example, for small bag-of-words datasets the dimensions $n$, $d$, the number of non-zeros, the density, the dataset (as a sparse $n \\times d$ csr matrix) and the norm of the dataset squared are computed by running:\n",
    "\n",
    "```python\n",
    "n, d, nnz, dense, SpX, norm2 = dssb.get_bagX('docword.kos.txt') \n",
    "```\n",
    "\n",
    "Alternatively, a list of the first $m$ sparse blocks of size $B$ can be returned by running the following:\n",
    "\n",
    "```python\n",
    "n, d, nnz, dense, SpX, norm2 = dssb.get_bagXblocks('docword.nytimes.txt', B, block_total=m)\n",
    "```\n",
    "\n",
    "#### CIFAR-10\n",
    "The [CIFAR-10 dataset](https://www.cs.toronto.edu/~kriz/cifar.html) is a subset of the considerably larger [Tiny Images Dataset](http://horatio.cs.nyu.edu/mit/tiny/data/index.html).\n",
    "\n",
    "\n",
    "### data_strm_subclass.py\n",
    "\n",
    "### plot functions.py\n",
    "\n"
   ]
  },
  {
   "cell_type": "code",
   "execution_count": null,
   "metadata": {
    "collapsed": true
   },
   "outputs": [],
   "source": []
  }
 ],
 "metadata": {
  "kernelspec": {
   "display_name": "Python [default]",
   "language": "python",
   "name": "python3"
  },
  "language_info": {
   "codemirror_mode": {
    "name": "ipython",
    "version": 3
   },
   "file_extension": ".py",
   "mimetype": "text/x-python",
   "name": "python",
   "nbconvert_exporter": "python",
   "pygments_lexer": "ipython3",
   "version": "3.5.2"
  }
 },
 "nbformat": 4,
 "nbformat_minor": 2
}
